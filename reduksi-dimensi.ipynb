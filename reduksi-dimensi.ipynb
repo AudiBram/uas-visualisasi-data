{
 "cells": [
  {
   "cell_type": "markdown",
   "source": [
    "# UAS Teknik Visualisasi Data"
   ],
   "metadata": {
    "collapsed": false
   },
   "id": "4d6d7a5efcc87b41"
  },
  {
   "cell_type": "markdown",
   "source": [
    "## Import Module"
   ],
   "metadata": {
    "collapsed": false
   },
   "id": "7d9000e451ada6f0"
  },
  {
   "cell_type": "code",
   "outputs": [],
   "source": [
    "import pandas as pd\n",
    "import numpy as np\n",
    "import matplotlib.pyplot as plt\n",
    "import seaborn as sns\n",
    "from scipy.stats import pearsonr, mode"
   ],
   "metadata": {
    "collapsed": false,
    "ExecuteTime": {
     "end_time": "2024-01-27T07:43:55.391204504Z",
     "start_time": "2024-01-27T07:43:55.383916981Z"
    }
   },
   "id": "7e1eecaa1ef2343a",
   "execution_count": 35
  },
  {
   "cell_type": "markdown",
   "source": [
    "## Read Data From CSV File"
   ],
   "metadata": {
    "collapsed": false
   },
   "id": "851b0afbbffb4ab4"
  },
  {
   "cell_type": "code",
   "outputs": [],
   "source": [
    "df = pd.read_csv('supermarket_sales - Sheet1.csv')"
   ],
   "metadata": {
    "collapsed": false,
    "ExecuteTime": {
     "end_time": "2024-01-27T07:43:58.670710829Z",
     "start_time": "2024-01-27T07:43:58.630254042Z"
    }
   },
   "id": "61bc74fef6023e97",
   "execution_count": 36
  },
  {
   "cell_type": "markdown",
   "source": [
    "## Read The First 5 Data"
   ],
   "metadata": {
    "collapsed": false
   },
   "id": "456c155bb3cc0af"
  },
  {
   "cell_type": "code",
   "outputs": [
    {
     "data": {
      "text/plain": "    Invoice ID Branch       City Customer type  Gender  \\\n0  750-67-8428      A     Yangon        Member  Female   \n1  226-31-3081      C  Naypyitaw        Normal  Female   \n2  631-41-3108      A     Yangon        Normal    Male   \n3  123-19-1176      A     Yangon        Member    Male   \n4  373-73-7910      A     Yangon        Normal    Male   \n\n             Product line  Unit price  Quantity   Tax 5%     Total       Date  \\\n0       Health and beauty       74.69         7  26.1415  548.9715   1/5/2019   \n1  Electronic accessories       15.28         5   3.8200   80.2200   3/8/2019   \n2      Home and lifestyle       46.33         7  16.2155  340.5255   3/3/2019   \n3       Health and beauty       58.22         8  23.2880  489.0480  1/27/2019   \n4       Sports and travel       86.31         7  30.2085  634.3785   2/8/2019   \n\n    Time      Payment    cogs  gross margin percentage  gross income  Rating  \n0  13:08      Ewallet  522.83                 4.761905       26.1415     9.1  \n1  10:29         Cash   76.40                 4.761905        3.8200     9.6  \n2  13:23  Credit card  324.31                 4.761905       16.2155     7.4  \n3  20:33      Ewallet  465.76                 4.761905       23.2880     8.4  \n4  10:37      Ewallet  604.17                 4.761905       30.2085     5.3  ",
      "text/html": "<div>\n<style scoped>\n    .dataframe tbody tr th:only-of-type {\n        vertical-align: middle;\n    }\n\n    .dataframe tbody tr th {\n        vertical-align: top;\n    }\n\n    .dataframe thead th {\n        text-align: right;\n    }\n</style>\n<table border=\"1\" class=\"dataframe\">\n  <thead>\n    <tr style=\"text-align: right;\">\n      <th></th>\n      <th>Invoice ID</th>\n      <th>Branch</th>\n      <th>City</th>\n      <th>Customer type</th>\n      <th>Gender</th>\n      <th>Product line</th>\n      <th>Unit price</th>\n      <th>Quantity</th>\n      <th>Tax 5%</th>\n      <th>Total</th>\n      <th>Date</th>\n      <th>Time</th>\n      <th>Payment</th>\n      <th>cogs</th>\n      <th>gross margin percentage</th>\n      <th>gross income</th>\n      <th>Rating</th>\n    </tr>\n  </thead>\n  <tbody>\n    <tr>\n      <th>0</th>\n      <td>750-67-8428</td>\n      <td>A</td>\n      <td>Yangon</td>\n      <td>Member</td>\n      <td>Female</td>\n      <td>Health and beauty</td>\n      <td>74.69</td>\n      <td>7</td>\n      <td>26.1415</td>\n      <td>548.9715</td>\n      <td>1/5/2019</td>\n      <td>13:08</td>\n      <td>Ewallet</td>\n      <td>522.83</td>\n      <td>4.761905</td>\n      <td>26.1415</td>\n      <td>9.1</td>\n    </tr>\n    <tr>\n      <th>1</th>\n      <td>226-31-3081</td>\n      <td>C</td>\n      <td>Naypyitaw</td>\n      <td>Normal</td>\n      <td>Female</td>\n      <td>Electronic accessories</td>\n      <td>15.28</td>\n      <td>5</td>\n      <td>3.8200</td>\n      <td>80.2200</td>\n      <td>3/8/2019</td>\n      <td>10:29</td>\n      <td>Cash</td>\n      <td>76.40</td>\n      <td>4.761905</td>\n      <td>3.8200</td>\n      <td>9.6</td>\n    </tr>\n    <tr>\n      <th>2</th>\n      <td>631-41-3108</td>\n      <td>A</td>\n      <td>Yangon</td>\n      <td>Normal</td>\n      <td>Male</td>\n      <td>Home and lifestyle</td>\n      <td>46.33</td>\n      <td>7</td>\n      <td>16.2155</td>\n      <td>340.5255</td>\n      <td>3/3/2019</td>\n      <td>13:23</td>\n      <td>Credit card</td>\n      <td>324.31</td>\n      <td>4.761905</td>\n      <td>16.2155</td>\n      <td>7.4</td>\n    </tr>\n    <tr>\n      <th>3</th>\n      <td>123-19-1176</td>\n      <td>A</td>\n      <td>Yangon</td>\n      <td>Member</td>\n      <td>Male</td>\n      <td>Health and beauty</td>\n      <td>58.22</td>\n      <td>8</td>\n      <td>23.2880</td>\n      <td>489.0480</td>\n      <td>1/27/2019</td>\n      <td>20:33</td>\n      <td>Ewallet</td>\n      <td>465.76</td>\n      <td>4.761905</td>\n      <td>23.2880</td>\n      <td>8.4</td>\n    </tr>\n    <tr>\n      <th>4</th>\n      <td>373-73-7910</td>\n      <td>A</td>\n      <td>Yangon</td>\n      <td>Normal</td>\n      <td>Male</td>\n      <td>Sports and travel</td>\n      <td>86.31</td>\n      <td>7</td>\n      <td>30.2085</td>\n      <td>634.3785</td>\n      <td>2/8/2019</td>\n      <td>10:37</td>\n      <td>Ewallet</td>\n      <td>604.17</td>\n      <td>4.761905</td>\n      <td>30.2085</td>\n      <td>5.3</td>\n    </tr>\n  </tbody>\n</table>\n</div>"
     },
     "execution_count": 37,
     "metadata": {},
     "output_type": "execute_result"
    }
   ],
   "source": [
    "df.head()"
   ],
   "metadata": {
    "collapsed": false,
    "ExecuteTime": {
     "end_time": "2024-01-27T07:44:01.032970021Z",
     "start_time": "2024-01-27T07:44:00.987595082Z"
    }
   },
   "id": "35b853cf72142000",
   "execution_count": 37
  },
  {
   "cell_type": "markdown",
   "source": [
    "## Correlation Analysis of Unit Price and Quantity"
   ],
   "metadata": {
    "collapsed": false
   },
   "id": "73a41471bb3832ed"
  },
  {
   "cell_type": "code",
   "outputs": [
    {
     "name": "stdout",
     "output_type": "stream",
     "text": [
      "0.010777564342497263\n"
     ]
    }
   ],
   "source": [
    "korelasi = pearsonr(df['Unit price'], df['Quantity'])\n",
    "print(korelasi.statistic)"
   ],
   "metadata": {
    "collapsed": false,
    "ExecuteTime": {
     "end_time": "2024-01-27T07:44:05.506303386Z",
     "start_time": "2024-01-27T07:44:05.451971351Z"
    }
   },
   "id": "4a68e1874bb5f64f",
   "execution_count": 38
  },
  {
   "cell_type": "markdown",
   "source": [
    "## Correlation Analysis of Unit Price and Tax 5%"
   ],
   "metadata": {
    "collapsed": false
   },
   "id": "1bc16bbd192475ed"
  },
  {
   "cell_type": "code",
   "outputs": [
    {
     "name": "stdout",
     "output_type": "stream",
     "text": [
      "0.6339620885890691\n"
     ]
    }
   ],
   "source": [
    "korelasi = pearsonr(df['Unit price'], df['Tax 5%'])\n",
    "print(korelasi.statistic)"
   ],
   "metadata": {
    "collapsed": false,
    "ExecuteTime": {
     "end_time": "2024-01-27T07:44:11.178994290Z",
     "start_time": "2024-01-27T07:44:11.150827178Z"
    }
   },
   "id": "2dd0380c1a3b3b08",
   "execution_count": 39
  },
  {
   "cell_type": "markdown",
   "source": [
    "## Correlation Analysis of Unit Price and Total"
   ],
   "metadata": {
    "collapsed": false
   },
   "id": "65ce57c0cb187f60"
  },
  {
   "cell_type": "code",
   "outputs": [
    {
     "name": "stdout",
     "output_type": "stream",
     "text": [
      "0.6339620885890691\n"
     ]
    }
   ],
   "source": [
    "korelasi = pearsonr(df['Unit price'], df['Total'])\n",
    "print(korelasi.statistic)"
   ],
   "metadata": {
    "collapsed": false,
    "ExecuteTime": {
     "end_time": "2024-01-27T07:44:13.454868759Z",
     "start_time": "2024-01-27T07:44:13.402895164Z"
    }
   },
   "id": "3c3439c50622a87",
   "execution_count": 40
  },
  {
   "cell_type": "markdown",
   "source": [
    "## Correlation Analysis of Unit Price and COGS"
   ],
   "metadata": {
    "collapsed": false
   },
   "id": "a1ade3fd4df12876"
  },
  {
   "cell_type": "code",
   "outputs": [
    {
     "name": "stdout",
     "output_type": "stream",
     "text": [
      "0.6339620885890691\n"
     ]
    }
   ],
   "source": [
    "korelasi = pearsonr(df['Unit price'], df['cogs'])\n",
    "print(korelasi.statistic)"
   ],
   "metadata": {
    "collapsed": false,
    "ExecuteTime": {
     "end_time": "2024-01-27T07:44:16.766010427Z",
     "start_time": "2024-01-27T07:44:16.744919775Z"
    }
   },
   "id": "571a9a353d47f70b",
   "execution_count": 41
  },
  {
   "cell_type": "markdown",
   "source": [
    "## Correlation Analysis of Quantity and Tax 5%"
   ],
   "metadata": {
    "collapsed": false
   },
   "id": "407100d617b5f48d"
  },
  {
   "cell_type": "code",
   "outputs": [
    {
     "name": "stdout",
     "output_type": "stream",
     "text": [
      "0.7055101859433064\n"
     ]
    }
   ],
   "source": [
    "korelasi = pearsonr(df['Quantity'], df['Tax 5%'])\n",
    "print(korelasi.statistic)"
   ],
   "metadata": {
    "collapsed": false,
    "ExecuteTime": {
     "end_time": "2024-01-27T07:44:18.789137064Z",
     "start_time": "2024-01-27T07:44:18.765813740Z"
    }
   },
   "id": "245dec0009b0a7c8",
   "execution_count": 42
  },
  {
   "cell_type": "markdown",
   "source": [
    "## Correlation Analysis of Quantity and Total"
   ],
   "metadata": {
    "collapsed": false
   },
   "id": "26fd69347dec64b0"
  },
  {
   "cell_type": "code",
   "outputs": [
    {
     "name": "stdout",
     "output_type": "stream",
     "text": [
      "0.7055101859433064\n"
     ]
    }
   ],
   "source": [
    "korelasi = pearsonr(df['Quantity'], df['Total'])\n",
    "print(korelasi.statistic)"
   ],
   "metadata": {
    "collapsed": false,
    "ExecuteTime": {
     "end_time": "2024-01-27T07:44:20.792664695Z",
     "start_time": "2024-01-27T07:44:20.705782966Z"
    }
   },
   "id": "31bb5540fbaebba2",
   "execution_count": 43
  },
  {
   "cell_type": "markdown",
   "source": [
    "## Correlation Analysis of Quantity and COGS"
   ],
   "metadata": {
    "collapsed": false
   },
   "id": "f6ad4e528da6e728"
  },
  {
   "cell_type": "code",
   "outputs": [
    {
     "name": "stdout",
     "output_type": "stream",
     "text": [
      "0.7055101859433064\n"
     ]
    }
   ],
   "source": [
    "korelasi = pearsonr(df['Quantity'], df['cogs'])\n",
    "print(korelasi.statistic)"
   ],
   "metadata": {
    "collapsed": false,
    "ExecuteTime": {
     "end_time": "2024-01-27T07:44:22.765732542Z",
     "start_time": "2024-01-27T07:44:22.743488336Z"
    }
   },
   "id": "a97bb56bbaf8412",
   "execution_count": 44
  },
  {
   "cell_type": "markdown",
   "source": [
    "## Correlation Analysis of COGS and TAX"
   ],
   "metadata": {
    "collapsed": false
   },
   "id": "3744fda8112cf4d7"
  },
  {
   "cell_type": "code",
   "outputs": [
    {
     "name": "stdout",
     "output_type": "stream",
     "text": [
      "0.9999999999999999\n"
     ]
    }
   ],
   "source": [
    "korelasi = pearsonr(df['cogs'], df['Tax 5%'])\n",
    "print(korelasi.statistic)"
   ],
   "metadata": {
    "collapsed": false,
    "ExecuteTime": {
     "end_time": "2024-01-27T07:44:25.051166549Z",
     "start_time": "2024-01-27T07:44:25.009129355Z"
    }
   },
   "id": "af94c00c75826ae8",
   "execution_count": 45
  },
  {
   "cell_type": "markdown",
   "source": [
    "## Correlation Analysis of COGS and Total"
   ],
   "metadata": {
    "collapsed": false
   },
   "id": "6ed3a5125be3cc5c"
  },
  {
   "cell_type": "code",
   "outputs": [
    {
     "name": "stdout",
     "output_type": "stream",
     "text": [
      "1.0\n"
     ]
    }
   ],
   "source": [
    "korelasi = pearsonr(df['cogs'], df['Total'])\n",
    "print(korelasi.statistic)"
   ],
   "metadata": {
    "collapsed": false,
    "ExecuteTime": {
     "end_time": "2024-01-27T07:44:27.548351471Z",
     "start_time": "2024-01-27T07:44:27.527291370Z"
    }
   },
   "id": "3d1daf9773f05f28",
   "execution_count": 46
  },
  {
   "cell_type": "markdown",
   "source": [
    "## Setelah dilakukan analisis korelasi antara variabel 'Unit price', 'Quantity', 'Tax 5%', dan 'Total' ditemukan bahwa:\n",
    "## 1. Variabel 'Unit price' dan 'Quantity' berkorelasi sangat lemah\n",
    "## 2. Variabel 'Unit price' dan 'Tax 5%' berkorelasi sedang (moderat)\n",
    "## 3. Variabel 'Unit price' dan 'Total' berkorelasi sedang (moderat)\n",
    "## 4. Variabel 'Unit price' dan 'COGS' berkorelasi sedang (moderat)\n",
    "## 5. Variabel 'Quantity' dan 'Tax 5%' berkorelasi kuat\n",
    "## 6. Variabel 'Quantity' dan 'Total' berkorelasi kuat\n",
    "## 7. Variabel 'Quantity' dan 'COGS' berkorelasi kuat\n",
    "## 8. Variabel 'COGS' dan 'TAX' berkorelasi sangat kuat\n",
    "## 9. Variabel 'COGS' dan 'Total' berkorelasi sangat kuat"
   ],
   "metadata": {
    "collapsed": false
   },
   "id": "369f557af59475f1"
  },
  {
   "cell_type": "markdown",
   "source": [
    "## Untuk dimensi yang harus direduksi atau dihilangkan adalah dimensi 'gross margin percentage' dan 'gross income',\n",
    "## karena dimensi 'gross margin percentage' memiliki data yang sama di semua records\n",
    "## dan dimensi 'gross income' memiliki data yang sama dengan dimensi 'Tax 5%' (redundant).\n",
    "## sehingga dimensi 'gross income' dapat dihapus, karena sudah terwakilkan oleh dimensi 'Tax 5%'"
   ],
   "metadata": {
    "collapsed": false
   },
   "id": "88556cd0096dc3ed"
  },
  {
   "cell_type": "markdown",
   "source": [
    "## Remove The 'gross margin percentage' Dimension"
   ],
   "metadata": {
    "collapsed": false
   },
   "id": "84c4e27de0b667f3"
  },
  {
   "cell_type": "code",
   "outputs": [],
   "source": [
    "df = df.drop(columns=['gross margin percentage'])\n",
    "df = df.drop(columns=['gross income'])"
   ],
   "metadata": {
    "collapsed": false,
    "ExecuteTime": {
     "end_time": "2024-01-27T07:45:06.221280914Z",
     "start_time": "2024-01-27T07:45:06.180119558Z"
    }
   },
   "id": "4fb43bf3ece28219",
   "execution_count": 47
  },
  {
   "cell_type": "code",
   "outputs": [
    {
     "data": {
      "text/plain": "    Invoice ID Branch       City Customer type  Gender  \\\n0  750-67-8428      A     Yangon        Member  Female   \n1  226-31-3081      C  Naypyitaw        Normal  Female   \n2  631-41-3108      A     Yangon        Normal    Male   \n3  123-19-1176      A     Yangon        Member    Male   \n4  373-73-7910      A     Yangon        Normal    Male   \n\n             Product line  Unit price  Quantity   Tax 5%     Total       Date  \\\n0       Health and beauty       74.69         7  26.1415  548.9715   1/5/2019   \n1  Electronic accessories       15.28         5   3.8200   80.2200   3/8/2019   \n2      Home and lifestyle       46.33         7  16.2155  340.5255   3/3/2019   \n3       Health and beauty       58.22         8  23.2880  489.0480  1/27/2019   \n4       Sports and travel       86.31         7  30.2085  634.3785   2/8/2019   \n\n    Time      Payment    cogs  Rating  \n0  13:08      Ewallet  522.83     9.1  \n1  10:29         Cash   76.40     9.6  \n2  13:23  Credit card  324.31     7.4  \n3  20:33      Ewallet  465.76     8.4  \n4  10:37      Ewallet  604.17     5.3  ",
      "text/html": "<div>\n<style scoped>\n    .dataframe tbody tr th:only-of-type {\n        vertical-align: middle;\n    }\n\n    .dataframe tbody tr th {\n        vertical-align: top;\n    }\n\n    .dataframe thead th {\n        text-align: right;\n    }\n</style>\n<table border=\"1\" class=\"dataframe\">\n  <thead>\n    <tr style=\"text-align: right;\">\n      <th></th>\n      <th>Invoice ID</th>\n      <th>Branch</th>\n      <th>City</th>\n      <th>Customer type</th>\n      <th>Gender</th>\n      <th>Product line</th>\n      <th>Unit price</th>\n      <th>Quantity</th>\n      <th>Tax 5%</th>\n      <th>Total</th>\n      <th>Date</th>\n      <th>Time</th>\n      <th>Payment</th>\n      <th>cogs</th>\n      <th>Rating</th>\n    </tr>\n  </thead>\n  <tbody>\n    <tr>\n      <th>0</th>\n      <td>750-67-8428</td>\n      <td>A</td>\n      <td>Yangon</td>\n      <td>Member</td>\n      <td>Female</td>\n      <td>Health and beauty</td>\n      <td>74.69</td>\n      <td>7</td>\n      <td>26.1415</td>\n      <td>548.9715</td>\n      <td>1/5/2019</td>\n      <td>13:08</td>\n      <td>Ewallet</td>\n      <td>522.83</td>\n      <td>9.1</td>\n    </tr>\n    <tr>\n      <th>1</th>\n      <td>226-31-3081</td>\n      <td>C</td>\n      <td>Naypyitaw</td>\n      <td>Normal</td>\n      <td>Female</td>\n      <td>Electronic accessories</td>\n      <td>15.28</td>\n      <td>5</td>\n      <td>3.8200</td>\n      <td>80.2200</td>\n      <td>3/8/2019</td>\n      <td>10:29</td>\n      <td>Cash</td>\n      <td>76.40</td>\n      <td>9.6</td>\n    </tr>\n    <tr>\n      <th>2</th>\n      <td>631-41-3108</td>\n      <td>A</td>\n      <td>Yangon</td>\n      <td>Normal</td>\n      <td>Male</td>\n      <td>Home and lifestyle</td>\n      <td>46.33</td>\n      <td>7</td>\n      <td>16.2155</td>\n      <td>340.5255</td>\n      <td>3/3/2019</td>\n      <td>13:23</td>\n      <td>Credit card</td>\n      <td>324.31</td>\n      <td>7.4</td>\n    </tr>\n    <tr>\n      <th>3</th>\n      <td>123-19-1176</td>\n      <td>A</td>\n      <td>Yangon</td>\n      <td>Member</td>\n      <td>Male</td>\n      <td>Health and beauty</td>\n      <td>58.22</td>\n      <td>8</td>\n      <td>23.2880</td>\n      <td>489.0480</td>\n      <td>1/27/2019</td>\n      <td>20:33</td>\n      <td>Ewallet</td>\n      <td>465.76</td>\n      <td>8.4</td>\n    </tr>\n    <tr>\n      <th>4</th>\n      <td>373-73-7910</td>\n      <td>A</td>\n      <td>Yangon</td>\n      <td>Normal</td>\n      <td>Male</td>\n      <td>Sports and travel</td>\n      <td>86.31</td>\n      <td>7</td>\n      <td>30.2085</td>\n      <td>634.3785</td>\n      <td>2/8/2019</td>\n      <td>10:37</td>\n      <td>Ewallet</td>\n      <td>604.17</td>\n      <td>5.3</td>\n    </tr>\n  </tbody>\n</table>\n</div>"
     },
     "execution_count": 48,
     "metadata": {},
     "output_type": "execute_result"
    }
   ],
   "source": [
    "df.head()"
   ],
   "metadata": {
    "collapsed": false,
    "ExecuteTime": {
     "end_time": "2024-01-27T07:45:08.193110779Z",
     "start_time": "2024-01-27T07:45:08.168884134Z"
    }
   },
   "id": "a9370704166bca59",
   "execution_count": 48
  },
  {
   "cell_type": "markdown",
   "source": [
    "#  Unit Price (Mean, Median, Modus)"
   ],
   "metadata": {
    "collapsed": false
   },
   "id": "df3924918c39a4a9"
  },
  {
   "cell_type": "code",
   "outputs": [
    {
     "name": "stdout",
     "output_type": "stream",
     "text": [
      "Unit Price Mean: 55.67213\n",
      "Unit Price Median: 55.230000000000004\n",
      "Unit Price Modus: 83.77\n"
     ]
    }
   ],
   "source": [
    "unit_price_mean = np.mean(df['Unit price'])\n",
    "unit_price_median = np.median(df['Unit price'])\n",
    "unit_price_modus = mode(df['Unit price'])\n",
    "\n",
    "print(f'Unit Price Mean: {unit_price_mean}')\n",
    "print(f'Unit Price Median: {unit_price_median}')\n",
    "print(f'Unit Price Modus: {unit_price_modus.mode}')"
   ],
   "metadata": {
    "collapsed": false,
    "ExecuteTime": {
     "end_time": "2024-01-27T07:46:54.335995139Z",
     "start_time": "2024-01-27T07:46:54.326666364Z"
    }
   },
   "id": "92c6cc12fbdcd0f4",
   "execution_count": 49
  },
  {
   "cell_type": "code",
   "outputs": [
    {
     "data": {
      "text/plain": "<Figure size 1000x700 with 1 Axes>",
      "image/png": "[encoded data removed]"
     },
     "metadata": {},
     "output_type": "display_data"
    }
   ],
   "source": [
    "# Visualisasi\n",
    "plt.figure(figsize=(10, 7))\n",
    "\n",
    "# Histogram\n",
    "sns.histplot(df['Unit price'], color='skyblue', label='Unit Price Distribution')\n",
    "\n",
    "# Garis vertikal untuk mean, median, dan modus\n",
    "plt.axvline(unit_price_mean, color='red', linestyle='dashed', linewidth=2, label='Mean')\n",
    "plt.axvline(unit_price_median, color='green', linestyle='dashed', linewidth=2, label='Median')\n",
    "\n",
    "# Menambahkan label dan legenda\n",
    "plt.xlabel('Unit Price')\n",
    "plt.ylabel('')\n",
    "plt.legend()\n",
    "\n",
    "# Menampilkan plot\n",
    "plt.show()"
   ],
   "metadata": {
    "collapsed": false,
    "ExecuteTime": {
     "end_time": "2024-01-27T07:46:57.105206202Z",
     "start_time": "2024-01-27T07:46:56.527006001Z"
    }
   },
   "id": "d3fb9431a9c399ab",
   "execution_count": 50
  },
  {
   "cell_type": "markdown",
   "source": [
    "# Quantity (Mean, Median, Modus)"
   ],
   "metadata": {
    "collapsed": false
   },
   "id": "4ad36041852e027d"
  },
  {
   "cell_type": "code",
   "outputs": [
    {
     "name": "stdout",
     "output_type": "stream",
     "text": [
      "Quantity Mean: 5.51\n",
      "Quantity Median: 5.0\n",
      "Quantity Modus: 10\n"
     ]
    }
   ],
   "source": [
    "quantity_mean = np.mean(df['Quantity'])\n",
    "quantity_median = np.median(df['Quantity'])\n",
    "quantity_modus = mode(df['Quantity'])\n",
    "\n",
    "print(f'Quantity Mean: {quantity_mean}')\n",
    "print(f'Quantity Median: {quantity_median}')\n",
    "print(f'Quantity Modus: {quantity_modus.mode}')"
   ],
   "metadata": {
    "collapsed": false,
    "ExecuteTime": {
     "end_time": "2024-01-27T07:47:00.388757277Z",
     "start_time": "2024-01-27T07:47:00.358758757Z"
    }
   },
   "id": "14f82b37cce7449c",
   "execution_count": 51
  },
  {
   "cell_type": "code",
   "outputs": [
    {
     "data": {
      "text/plain": "<Figure size 1000x700 with 1 Axes>",
      "image/png": "[encoded data removed]"
     },
     "metadata": {},
     "output_type": "display_data"
    }
   ],
   "source": [
    "# Visualisasi\n",
    "plt.figure(figsize=(10, 7))\n",
    "\n",
    "# Histogram\n",
    "sns.histplot(df['Quantity'], color='skyblue', label='Quantity Distribution')\n",
    "\n",
    "# Garis vertikal untuk mean, median, dan modus\n",
    "plt.axvline(quantity_mean, color='red', linestyle='dashed', linewidth=2, label='Mean')\n",
    "plt.axvline(quantity_median, color='green', linestyle='dashed', linewidth=2, label='Median')\n",
    "\n",
    "# Menambahkan label dan legenda\n",
    "plt.xlabel('Quantity')\n",
    "plt.ylabel('')\n",
    "plt.legend()\n",
    "\n",
    "# Menampilkan plot\n",
    "plt.show()"
   ],
   "metadata": {
    "collapsed": false,
    "ExecuteTime": {
     "end_time": "2024-01-27T07:47:04.589164197Z",
     "start_time": "2024-01-27T07:47:02.864286453Z"
    }
   },
   "id": "4faa44edba7f109a",
   "execution_count": 52
  },
  {
   "cell_type": "markdown",
   "source": [
    "# Tax 5% (Mean, Median, Modus)"
   ],
   "metadata": {
    "collapsed": false
   },
   "id": "737adada83d7214c"
  },
  {
   "cell_type": "code",
   "outputs": [
    {
     "name": "stdout",
     "output_type": "stream",
     "text": [
      "Tax 5% Mean: 15.379368999999999\n",
      "Tax 5% Median: 12.088000000000001\n",
      "Tax 5% Modus: 4.154\n"
     ]
    }
   ],
   "source": [
    "tax_mean = np.mean(df['Tax 5%'])\n",
    "tax_median = np.median(df['Tax 5%'])\n",
    "tax_modus = mode(df['Tax 5%'])\n",
    "\n",
    "print(f'Tax 5% Mean: {tax_mean}')\n",
    "print(f'Tax 5% Median: {tax_median}')\n",
    "print(f'Tax 5% Modus: {tax_modus.mode}')"
   ],
   "metadata": {
    "collapsed": false,
    "ExecuteTime": {
     "end_time": "2024-01-27T07:50:41.129546743Z",
     "start_time": "2024-01-27T07:50:41.100136026Z"
    }
   },
   "id": "6b2c3c13bae7b807",
   "execution_count": 55
  },
  {
   "cell_type": "code",
   "outputs": [
    {
     "data": {
      "text/plain": "<Figure size 1000x700 with 1 Axes>",
      "image/png": "[encoded data removed]"
     },
     "metadata": {},
     "output_type": "display_data"
    }
   ],
   "source": [
    "# Visualisasi\n",
    "plt.figure(figsize=(10, 7))\n",
    "\n",
    "# Histogram\n",
    "sns.histplot(df['Tax 5%'], color='skyblue', label='Tax 5% Distribution')\n",
    "\n",
    "# Garis vertikal untuk mean, median, dan modus\n",
    "plt.axvline(tax_mean, color='red', linestyle='dashed', linewidth=2, label='Mean')\n",
    "plt.axvline(tax_median, color='green', linestyle='dashed', linewidth=2, label='Median')\n",
    "\n",
    "# Menambahkan label dan legenda\n",
    "plt.xlabel('Tax 5%')\n",
    "plt.ylabel('')\n",
    "plt.legend()\n",
    "\n",
    "# Menampilkan plot\n",
    "plt.show()"
   ],
   "metadata": {
    "collapsed": false,
    "ExecuteTime": {
     "end_time": "2024-01-27T07:51:12.907655790Z",
     "start_time": "2024-01-27T07:51:12.494044225Z"
    }
   },
   "id": "e7aeec8716e48d58",
   "execution_count": 56
  },
  {
   "cell_type": "markdown",
   "source": [
    "# Total (Mean, Median, Modus)"
   ],
   "metadata": {
    "collapsed": false
   },
   "id": "d9965f79f5caf4b1"
  },
  {
   "cell_type": "code",
   "outputs": [
    {
     "name": "stdout",
     "output_type": "stream",
     "text": [
      "Total Mean: 322.966749\n",
      "Total Median: 253.848\n",
      "Total Modus: 87.234\n"
     ]
    }
   ],
   "source": [
    "total_mean = np.mean(df['Total'])\n",
    "total_median = np.median(df['Total'])\n",
    "total_modus = mode(df['Total'])\n",
    "\n",
    "print(f'Total Mean: {total_mean}')\n",
    "print(f'Total Median: {total_median}')\n",
    "print(f'Total Modus: {total_modus.mode}')"
   ],
   "metadata": {
    "collapsed": false,
    "ExecuteTime": {
     "end_time": "2024-01-27T07:55:20.986836520Z",
     "start_time": "2024-01-27T07:55:20.974544420Z"
    }
   },
   "id": "8ca57549915205b3",
   "execution_count": 57
  },
  {
   "cell_type": "code",
   "outputs": [
    {
     "data": {
      "text/plain": "<Figure size 1000x700 with 1 Axes>",
      "image/png": "[encoded data removed]"
     },
     "metadata": {},
     "output_type": "display_data"
    }
   ],
   "source": [
    "# Visualisasi\n",
    "plt.figure(figsize=(10, 7))\n",
    "\n",
    "# Histogram\n",
    "sns.histplot(df['Total'], color='skyblue', label='Total Distribution')\n",
    "\n",
    "# Garis vertikal untuk mean, median, dan modus\n",
    "plt.axvline(total_mean, color='red', linestyle='dashed', linewidth=2, label='Mean')\n",
    "plt.axvline(total_median, color='green', linestyle='dashed', linewidth=2, label='Median')\n",
    "\n",
    "# Menambahkan label dan legenda\n",
    "plt.xlabel('Total')\n",
    "plt.ylabel('')\n",
    "plt.legend()\n",
    "\n",
    "# Menampilkan plot\n",
    "plt.show()"
   ],
   "metadata": {
    "collapsed": false,
    "ExecuteTime": {
     "end_time": "2024-01-27T07:55:50.481903222Z",
     "start_time": "2024-01-27T07:55:49.998156706Z"
    }
   },
   "id": "7299da5f8ba59516",
   "execution_count": 59
  },
  {
   "cell_type": "markdown",
   "source": [
    "# COGS - Cost of Goods Sold (Mean, Median, Modus)"
   ],
   "metadata": {
    "collapsed": false
   },
   "id": "faad5df83ea60ddf"
  },
  {
   "cell_type": "code",
   "outputs": [
    {
     "name": "stdout",
     "output_type": "stream",
     "text": [
      "COGS Mean: 307.58738\n",
      "COGS Median: 241.76\n",
      "COGS Modus: 83.08\n"
     ]
    }
   ],
   "source": [
    "cogs_mean = np.mean(df['cogs'])\n",
    "cogs_median = np.median(df['cogs'])\n",
    "cogs_modus = mode(df['cogs'])\n",
    "\n",
    "print(f'COGS Mean: {cogs_mean}')\n",
    "print(f'COGS Median: {cogs_median}')\n",
    "print(f'COGS Modus: {cogs_modus.mode}')"
   ],
   "metadata": {
    "collapsed": false,
    "ExecuteTime": {
     "end_time": "2024-01-27T07:47:16.864783100Z",
     "start_time": "2024-01-27T07:47:16.859371841Z"
    }
   },
   "id": "6466367c9bbe538",
   "execution_count": 53
  },
  {
   "cell_type": "code",
   "outputs": [
    {
     "data": {
      "text/plain": "<Figure size 1000x700 with 1 Axes>",
      "image/png": "[encoded data removed]"
     },
     "metadata": {},
     "output_type": "display_data"
    }
   ],
   "source": [
    "# Visualisasi\n",
    "plt.figure(figsize=(10, 7))\n",
    "\n",
    "# Histogram\n",
    "sns.histplot(df['cogs'], color='skyblue', label='COGS Distribution')\n",
    "\n",
    "# Garis vertikal untuk mean, median, dan modus\n",
    "plt.axvline(cogs_mean, color='red', linestyle='dashed', linewidth=2, label='Mean')\n",
    "plt.axvline(cogs_median, color='green', linestyle='dashed', linewidth=2, label='Median')\n",
    "\n",
    "# Menambahkan label dan legenda\n",
    "plt.xlabel('COGS')\n",
    "plt.ylabel('')\n",
    "plt.legend()\n",
    "\n",
    "# Menampilkan plot\n",
    "plt.show()"
   ],
   "metadata": {
    "collapsed": false,
    "ExecuteTime": {
     "end_time": "2024-01-27T07:47:19.736966894Z",
     "start_time": "2024-01-27T07:47:19.191566490Z"
    }
   },
   "id": "9bb54c3bc891ea50",
   "execution_count": 54
  }
 ],
 "metadata": {
  "kernelspec": {
   "display_name": "Python 3",
   "language": "python",
   "name": "python3"
  },
  "language_info": {
   "codemirror_mode": {
    "name": "ipython",
    "version": 2
   },
   "file_extension": ".py",
   "mimetype": "text/x-python",
   "name": "python",
   "nbconvert_exporter": "python",
   "pygments_lexer": "ipython2",
   "version": "2.7.6"
  }
 },
 "nbformat": 4,
 "nbformat_minor": 5
}
