{
 "cells": [
  {
   "cell_type": "markdown",
   "source": [
    "# UAS Teknik Visualisasi Data"
   ],
   "metadata": {
    "collapsed": false
   },
   "id": "4d6d7a5efcc87b41"
  },
  {
   "cell_type": "markdown",
   "source": [
    "## Import Module"
   ],
   "metadata": {
    "collapsed": false
   },
   "id": "7d9000e451ada6f0"
  },
  {
   "cell_type": "code",
   "outputs": [],
   "source": [
    "import pandas as pd\n",
    "import numpy as np\n",
    "import matplotlib.pyplot as plt\n",
    "import seaborn as sns\n",
    "from scipy.stats import pearsonr, mode"
   ],
   "metadata": {
    "collapsed": false,
    "ExecuteTime": {
     "end_time": "2024-01-26T17:11:27.141532276Z",
     "start_time": "2024-01-26T17:11:25.613658106Z"
    }
   },
   "id": "7e1eecaa1ef2343a",
   "execution_count": 68
  },
  {
   "cell_type": "markdown",
   "source": [
    "## Read Data From CSV File"
   ],
   "metadata": {
    "collapsed": false
   },
   "id": "851b0afbbffb4ab4"
  },
  {
   "cell_type": "code",
   "outputs": [],
   "source": [
    "df = pd.read_csv('supermarket_sales - Sheet1.csv')"
   ],
   "metadata": {
    "collapsed": false,
    "ExecuteTime": {
     "end_time": "2024-01-26T17:05:25.674033227Z",
     "start_time": "2024-01-26T17:05:25.657776749Z"
    }
   },
   "id": "61bc74fef6023e97",
   "execution_count": 57
  },
  {
   "cell_type": "markdown",
   "source": [
    "## Read The First 5 Data"
   ],
   "metadata": {
    "collapsed": false
   },
   "id": "456c155bb3cc0af"
  },
  {
   "cell_type": "code",
   "outputs": [
    {
     "data": {
      "text/plain": "    Invoice ID Branch       City Customer type  Gender  \\\n0  750-67-8428      A     Yangon        Member  Female   \n1  226-31-3081      C  Naypyitaw        Normal  Female   \n2  631-41-3108      A     Yangon        Normal    Male   \n3  123-19-1176      A     Yangon        Member    Male   \n4  373-73-7910      A     Yangon        Normal    Male   \n\n             Product line  Unit price  Quantity   Tax 5%     Total       Date  \\\n0       Health and beauty       74.69         7  26.1415  548.9715   1/5/2019   \n1  Electronic accessories       15.28         5   3.8200   80.2200   3/8/2019   \n2      Home and lifestyle       46.33         7  16.2155  340.5255   3/3/2019   \n3       Health and beauty       58.22         8  23.2880  489.0480  1/27/2019   \n4       Sports and travel       86.31         7  30.2085  634.3785   2/8/2019   \n\n    Time      Payment    cogs  gross margin percentage  gross income  Rating  \n0  13:08      Ewallet  522.83                 4.761905       26.1415     9.1  \n1  10:29         Cash   76.40                 4.761905        3.8200     9.6  \n2  13:23  Credit card  324.31                 4.761905       16.2155     7.4  \n3  20:33      Ewallet  465.76                 4.761905       23.2880     8.4  \n4  10:37      Ewallet  604.17                 4.761905       30.2085     5.3  ",
      "text/html": "<div>\n<style scoped>\n    .dataframe tbody tr th:only-of-type {\n        vertical-align: middle;\n    }\n\n    .dataframe tbody tr th {\n        vertical-align: top;\n    }\n\n    .dataframe thead th {\n        text-align: right;\n    }\n</style>\n<table border=\"1\" class=\"dataframe\">\n  <thead>\n    <tr style=\"text-align: right;\">\n      <th></th>\n      <th>Invoice ID</th>\n      <th>Branch</th>\n      <th>City</th>\n      <th>Customer type</th>\n      <th>Gender</th>\n      <th>Product line</th>\n      <th>Unit price</th>\n      <th>Quantity</th>\n      <th>Tax 5%</th>\n      <th>Total</th>\n      <th>Date</th>\n      <th>Time</th>\n      <th>Payment</th>\n      <th>cogs</th>\n      <th>gross margin percentage</th>\n      <th>gross income</th>\n      <th>Rating</th>\n    </tr>\n  </thead>\n  <tbody>\n    <tr>\n      <th>0</th>\n      <td>750-67-8428</td>\n      <td>A</td>\n      <td>Yangon</td>\n      <td>Member</td>\n      <td>Female</td>\n      <td>Health and beauty</td>\n      <td>74.69</td>\n      <td>7</td>\n      <td>26.1415</td>\n      <td>548.9715</td>\n      <td>1/5/2019</td>\n      <td>13:08</td>\n      <td>Ewallet</td>\n      <td>522.83</td>\n      <td>4.761905</td>\n      <td>26.1415</td>\n      <td>9.1</td>\n    </tr>\n    <tr>\n      <th>1</th>\n      <td>226-31-3081</td>\n      <td>C</td>\n      <td>Naypyitaw</td>\n      <td>Normal</td>\n      <td>Female</td>\n      <td>Electronic accessories</td>\n      <td>15.28</td>\n      <td>5</td>\n      <td>3.8200</td>\n      <td>80.2200</td>\n      <td>3/8/2019</td>\n      <td>10:29</td>\n      <td>Cash</td>\n      <td>76.40</td>\n      <td>4.761905</td>\n      <td>3.8200</td>\n      <td>9.6</td>\n    </tr>\n    <tr>\n      <th>2</th>\n      <td>631-41-3108</td>\n      <td>A</td>\n      <td>Yangon</td>\n      <td>Normal</td>\n      <td>Male</td>\n      <td>Home and lifestyle</td>\n      <td>46.33</td>\n      <td>7</td>\n      <td>16.2155</td>\n      <td>340.5255</td>\n      <td>3/3/2019</td>\n      <td>13:23</td>\n      <td>Credit card</td>\n      <td>324.31</td>\n      <td>4.761905</td>\n      <td>16.2155</td>\n      <td>7.4</td>\n    </tr>\n    <tr>\n      <th>3</th>\n      <td>123-19-1176</td>\n      <td>A</td>\n      <td>Yangon</td>\n      <td>Member</td>\n      <td>Male</td>\n      <td>Health and beauty</td>\n      <td>58.22</td>\n      <td>8</td>\n      <td>23.2880</td>\n      <td>489.0480</td>\n      <td>1/27/2019</td>\n      <td>20:33</td>\n      <td>Ewallet</td>\n      <td>465.76</td>\n      <td>4.761905</td>\n      <td>23.2880</td>\n      <td>8.4</td>\n    </tr>\n    <tr>\n      <th>4</th>\n      <td>373-73-7910</td>\n      <td>A</td>\n      <td>Yangon</td>\n      <td>Normal</td>\n      <td>Male</td>\n      <td>Sports and travel</td>\n      <td>86.31</td>\n      <td>7</td>\n      <td>30.2085</td>\n      <td>634.3785</td>\n      <td>2/8/2019</td>\n      <td>10:37</td>\n      <td>Ewallet</td>\n      <td>604.17</td>\n      <td>4.761905</td>\n      <td>30.2085</td>\n      <td>5.3</td>\n    </tr>\n  </tbody>\n</table>\n</div>"
     },
     "execution_count": 58,
     "metadata": {},
     "output_type": "execute_result"
    }
   ],
   "source": [
    "df.head()"
   ],
   "metadata": {
    "collapsed": false,
    "ExecuteTime": {
     "end_time": "2024-01-26T17:05:27.410883543Z",
     "start_time": "2024-01-26T17:05:27.368759126Z"
    }
   },
   "id": "35b853cf72142000",
   "execution_count": 58
  },
  {
   "cell_type": "markdown",
   "source": [
    "## Correlation Analysis of Unit Price and Quantity"
   ],
   "metadata": {
    "collapsed": false
   },
   "id": "73a41471bb3832ed"
  },
  {
   "cell_type": "code",
   "outputs": [
    {
     "name": "stdout",
     "output_type": "stream",
     "text": [
      "0.010777564342497263\n"
     ]
    }
   ],
   "source": [
    "korelasi = pearsonr(df['Unit price'], df['Quantity'])\n",
    "print(korelasi.statistic)"
   ],
   "metadata": {
    "collapsed": false,
    "ExecuteTime": {
     "end_time": "2024-01-26T17:05:30.346381929Z",
     "start_time": "2024-01-26T17:05:30.339586465Z"
    }
   },
   "id": "4a68e1874bb5f64f",
   "execution_count": 59
  },
  {
   "cell_type": "markdown",
   "source": [
    "## Correlation Analysis of Unit Price and Tax 5%"
   ],
   "metadata": {
    "collapsed": false
   },
   "id": "1bc16bbd192475ed"
  },
  {
   "cell_type": "code",
   "outputs": [
    {
     "name": "stdout",
     "output_type": "stream",
     "text": [
      "0.6339620885890691\n"
     ]
    }
   ],
   "source": [
    "korelasi = pearsonr(df['Unit price'], df['Tax 5%'])\n",
    "print(korelasi.statistic)"
   ],
   "metadata": {
    "collapsed": false,
    "ExecuteTime": {
     "end_time": "2024-01-26T17:05:32.113270518Z",
     "start_time": "2024-01-26T17:05:32.089068631Z"
    }
   },
   "id": "2dd0380c1a3b3b08",
   "execution_count": 60
  },
  {
   "cell_type": "markdown",
   "source": [
    "## Correlation Analysis of Unit Price and Total"
   ],
   "metadata": {
    "collapsed": false
   },
   "id": "65ce57c0cb187f60"
  },
  {
   "cell_type": "code",
   "outputs": [
    {
     "name": "stdout",
     "output_type": "stream",
     "text": [
      "0.6339620885890691\n"
     ]
    }
   ],
   "source": [
    "korelasi = pearsonr(df['Unit price'], df['Total'])\n",
    "print(korelasi.statistic)"
   ],
   "metadata": {
    "collapsed": false,
    "ExecuteTime": {
     "end_time": "2024-01-26T17:05:34.401866461Z",
     "start_time": "2024-01-26T17:05:34.383350873Z"
    }
   },
   "id": "3c3439c50622a87",
   "execution_count": 61
  },
  {
   "cell_type": "markdown",
   "source": [
    "## Correlation Analysis of Quantity and Tax 5%"
   ],
   "metadata": {
    "collapsed": false
   },
   "id": "407100d617b5f48d"
  },
  {
   "cell_type": "code",
   "outputs": [
    {
     "name": "stdout",
     "output_type": "stream",
     "text": [
      "0.7055101859433064\n"
     ]
    }
   ],
   "source": [
    "korelasi = pearsonr(df['Quantity'], df['Tax 5%'])\n",
    "print(korelasi.statistic)"
   ],
   "metadata": {
    "collapsed": false,
    "ExecuteTime": {
     "end_time": "2024-01-26T17:05:36.555701687Z",
     "start_time": "2024-01-26T17:05:36.546910260Z"
    }
   },
   "id": "245dec0009b0a7c8",
   "execution_count": 62
  },
  {
   "cell_type": "markdown",
   "source": [
    "## Correlation Analysis of Quantity and Total"
   ],
   "metadata": {
    "collapsed": false
   },
   "id": "26fd69347dec64b0"
  },
  {
   "cell_type": "code",
   "outputs": [
    {
     "name": "stdout",
     "output_type": "stream",
     "text": [
      "0.7055101859433064\n"
     ]
    }
   ],
   "source": [
    "korelasi = pearsonr(df['Quantity'], df['Total'])\n",
    "print(korelasi.statistic)"
   ],
   "metadata": {
    "collapsed": false,
    "ExecuteTime": {
     "end_time": "2024-01-26T17:05:38.620894106Z",
     "start_time": "2024-01-26T17:05:38.610980677Z"
    }
   },
   "id": "31bb5540fbaebba2",
   "execution_count": 63
  },
  {
   "cell_type": "markdown",
   "source": [
    "## Setelah dilakukan analisis korelasi antara variabel 'Unit price', 'Quantity', 'Tax 5%', dan 'Total' ditemukan bahwa:\n",
    "- Variabel 'Unit price' dan 'Quantity' berkorelasi sangat lemah\n",
    "- Variabel 'Unit price' dan 'Tax 5%' berkorelasi sedang (moderat)\n",
    "- Variabel 'Unit price' dan 'Total' berkorelasi sedang (moderat)\n",
    "- Variabel 'Quantity' dan 'Tax 5%' berkorelasi kuat\n",
    "- Variabel 'Quantity' dan 'Total' berkorelasi kuat"
   ],
   "metadata": {
    "collapsed": false
   },
   "id": "369f557af59475f1"
  },
  {
   "cell_type": "markdown",
   "source": [
    "## Untuk dimensi yang harus direduksi atau dihilangkan adalah dimensi 'gross margin percentage',\n",
    "## karena dimensi tersebut memiliki data yang sama di semua records"
   ],
   "metadata": {
    "collapsed": false
   },
   "id": "88556cd0096dc3ed"
  },
  {
   "cell_type": "markdown",
   "source": [
    "## Remove The 'gross margin percentage' Dimension"
   ],
   "metadata": {
    "collapsed": false
   },
   "id": "84c4e27de0b667f3"
  },
  {
   "cell_type": "code",
   "outputs": [],
   "source": [
    "df = df.drop(columns=['gross margin percentage'])"
   ],
   "metadata": {
    "collapsed": false,
    "ExecuteTime": {
     "end_time": "2024-01-26T17:05:41.609309487Z",
     "start_time": "2024-01-26T17:05:41.598776751Z"
    }
   },
   "id": "4fb43bf3ece28219",
   "execution_count": 64
  },
  {
   "cell_type": "code",
   "outputs": [
    {
     "data": {
      "text/plain": "    Invoice ID Branch       City Customer type  Gender  \\\n0  750-67-8428      A     Yangon        Member  Female   \n1  226-31-3081      C  Naypyitaw        Normal  Female   \n2  631-41-3108      A     Yangon        Normal    Male   \n3  123-19-1176      A     Yangon        Member    Male   \n4  373-73-7910      A     Yangon        Normal    Male   \n\n             Product line  Unit price  Quantity   Tax 5%     Total       Date  \\\n0       Health and beauty       74.69         7  26.1415  548.9715   1/5/2019   \n1  Electronic accessories       15.28         5   3.8200   80.2200   3/8/2019   \n2      Home and lifestyle       46.33         7  16.2155  340.5255   3/3/2019   \n3       Health and beauty       58.22         8  23.2880  489.0480  1/27/2019   \n4       Sports and travel       86.31         7  30.2085  634.3785   2/8/2019   \n\n    Time      Payment    cogs  gross income  Rating  \n0  13:08      Ewallet  522.83       26.1415     9.1  \n1  10:29         Cash   76.40        3.8200     9.6  \n2  13:23  Credit card  324.31       16.2155     7.4  \n3  20:33      Ewallet  465.76       23.2880     8.4  \n4  10:37      Ewallet  604.17       30.2085     5.3  ",
      "text/html": "<div>\n<style scoped>\n    .dataframe tbody tr th:only-of-type {\n        vertical-align: middle;\n    }\n\n    .dataframe tbody tr th {\n        vertical-align: top;\n    }\n\n    .dataframe thead th {\n        text-align: right;\n    }\n</style>\n<table border=\"1\" class=\"dataframe\">\n  <thead>\n    <tr style=\"text-align: right;\">\n      <th></th>\n      <th>Invoice ID</th>\n      <th>Branch</th>\n      <th>City</th>\n      <th>Customer type</th>\n      <th>Gender</th>\n      <th>Product line</th>\n      <th>Unit price</th>\n      <th>Quantity</th>\n      <th>Tax 5%</th>\n      <th>Total</th>\n      <th>Date</th>\n      <th>Time</th>\n      <th>Payment</th>\n      <th>cogs</th>\n      <th>gross income</th>\n      <th>Rating</th>\n    </tr>\n  </thead>\n  <tbody>\n    <tr>\n      <th>0</th>\n      <td>750-67-8428</td>\n      <td>A</td>\n      <td>Yangon</td>\n      <td>Member</td>\n      <td>Female</td>\n      <td>Health and beauty</td>\n      <td>74.69</td>\n      <td>7</td>\n      <td>26.1415</td>\n      <td>548.9715</td>\n      <td>1/5/2019</td>\n      <td>13:08</td>\n      <td>Ewallet</td>\n      <td>522.83</td>\n      <td>26.1415</td>\n      <td>9.1</td>\n    </tr>\n    <tr>\n      <th>1</th>\n      <td>226-31-3081</td>\n      <td>C</td>\n      <td>Naypyitaw</td>\n      <td>Normal</td>\n      <td>Female</td>\n      <td>Electronic accessories</td>\n      <td>15.28</td>\n      <td>5</td>\n      <td>3.8200</td>\n      <td>80.2200</td>\n      <td>3/8/2019</td>\n      <td>10:29</td>\n      <td>Cash</td>\n      <td>76.40</td>\n      <td>3.8200</td>\n      <td>9.6</td>\n    </tr>\n    <tr>\n      <th>2</th>\n      <td>631-41-3108</td>\n      <td>A</td>\n      <td>Yangon</td>\n      <td>Normal</td>\n      <td>Male</td>\n      <td>Home and lifestyle</td>\n      <td>46.33</td>\n      <td>7</td>\n      <td>16.2155</td>\n      <td>340.5255</td>\n      <td>3/3/2019</td>\n      <td>13:23</td>\n      <td>Credit card</td>\n      <td>324.31</td>\n      <td>16.2155</td>\n      <td>7.4</td>\n    </tr>\n    <tr>\n      <th>3</th>\n      <td>123-19-1176</td>\n      <td>A</td>\n      <td>Yangon</td>\n      <td>Member</td>\n      <td>Male</td>\n      <td>Health and beauty</td>\n      <td>58.22</td>\n      <td>8</td>\n      <td>23.2880</td>\n      <td>489.0480</td>\n      <td>1/27/2019</td>\n      <td>20:33</td>\n      <td>Ewallet</td>\n      <td>465.76</td>\n      <td>23.2880</td>\n      <td>8.4</td>\n    </tr>\n    <tr>\n      <th>4</th>\n      <td>373-73-7910</td>\n      <td>A</td>\n      <td>Yangon</td>\n      <td>Normal</td>\n      <td>Male</td>\n      <td>Sports and travel</td>\n      <td>86.31</td>\n      <td>7</td>\n      <td>30.2085</td>\n      <td>634.3785</td>\n      <td>2/8/2019</td>\n      <td>10:37</td>\n      <td>Ewallet</td>\n      <td>604.17</td>\n      <td>30.2085</td>\n      <td>5.3</td>\n    </tr>\n  </tbody>\n</table>\n</div>"
     },
     "execution_count": 65,
     "metadata": {},
     "output_type": "execute_result"
    }
   ],
   "source": [
    "df.head()"
   ],
   "metadata": {
    "collapsed": false,
    "ExecuteTime": {
     "end_time": "2024-01-26T17:05:43.222282546Z",
     "start_time": "2024-01-26T17:05:43.209141251Z"
    }
   },
   "id": "a9370704166bca59",
   "execution_count": 65
  },
  {
   "cell_type": "markdown",
   "source": [
    "#  Unit Price (Mean, Median, Modus)"
   ],
   "metadata": {
    "collapsed": false
   },
   "id": "df3924918c39a4a9"
  },
  {
   "cell_type": "code",
   "outputs": [
    {
     "name": "stdout",
     "output_type": "stream",
     "text": [
      "Unit Price Mean: 55.67213\n",
      "Unit Price Median: 55.230000000000004\n",
      "Unit Price Modus: 83.77\n"
     ]
    }
   ],
   "source": [
    "unit_price_mean = np.mean(df['Unit price'])\n",
    "unit_price_median = np.median(df['Unit price'])\n",
    "unit_price_modus = mode(df['Unit price'])\n",
    "\n",
    "print(f'Unit Price Mean: {unit_price_mean}')\n",
    "print(f'Unit Price Median: {unit_price_median}')\n",
    "print(f'Unit Price Modus: {unit_price_modus.mode}')"
   ],
   "metadata": {
    "collapsed": false,
    "ExecuteTime": {
     "end_time": "2024-01-26T17:42:23.523247440Z",
     "start_time": "2024-01-26T17:42:23.475492716Z"
    }
   },
   "id": "92c6cc12fbdcd0f4",
   "execution_count": 107
  },
  {
   "cell_type": "code",
   "outputs": [
    {
     "data": {
      "text/plain": "<Figure size 1000x700 with 1 Axes>",
      "image/png": "[encoded data removed]"
     },
     "metadata": {},
     "output_type": "display_data"
    }
   ],
   "source": [
    "# Visualisasi\n",
    "plt.figure(figsize=(10, 7))\n",
    "\n",
    "# Histogram\n",
    "sns.histplot(df['Unit price'], color='skyblue', label='Unit Price Distribution')\n",
    "\n",
    "# Garis vertikal untuk mean, median, dan modus\n",
    "plt.axvline(unit_price_mean, color='red', linestyle='dashed', linewidth=2, label='Mean')\n",
    "plt.axvline(unit_price_median, color='green', linestyle='dashed', linewidth=2, label='Median')\n",
    "\n",
    "# Menambahkan label dan legenda\n",
    "plt.xlabel('Unit Price')\n",
    "plt.ylabel('')\n",
    "plt.legend()\n",
    "\n",
    "# Menampilkan plot\n",
    "plt.show()"
   ],
   "metadata": {
    "collapsed": false,
    "ExecuteTime": {
     "end_time": "2024-01-26T17:42:27.287079843Z",
     "start_time": "2024-01-26T17:42:26.992709516Z"
    }
   },
   "id": "d3fb9431a9c399ab",
   "execution_count": 108
  }
 ],
 "metadata": {
  "kernelspec": {
   "display_name": "Python 3",
   "language": "python",
   "name": "python3"
  },
  "language_info": {
   "codemirror_mode": {
    "name": "ipython",
    "version": 2
   },
   "file_extension": ".py",
   "mimetype": "text/x-python",
   "name": "python",
   "nbconvert_exporter": "python",
   "pygments_lexer": "ipython2",
   "version": "2.7.6"
  }
 },
 "nbformat": 4,
 "nbformat_minor": 5
}
